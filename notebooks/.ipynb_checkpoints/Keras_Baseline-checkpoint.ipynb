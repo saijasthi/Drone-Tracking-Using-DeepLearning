{
 "cells": [
  {
   "cell_type": "code",
   "execution_count": 1,
   "metadata": {},
   "outputs": [],
   "source": [
    "import pandas as pd\n",
    "from keras.models import Sequential\n",
    "from keras.layers import Dense\n",
    "from sklearn.model_selection import train_test_split\n",
    "from tensorflow import keras\n",
    "import matplotlib.pyplot as plt\n",
    "from sklearn.model_selection import train_test_split\n",
    "from sklearn.metrics import mean_squared_error"
   ]
  },
  {
   "cell_type": "code",
   "execution_count": 2,
   "metadata": {},
   "outputs": [],
   "source": [
    "df = pd.read_csv(\"result-1613244052\")"
   ]
  },
  {
   "cell_type": "code",
   "execution_count": 3,
   "metadata": {},
   "outputs": [],
   "source": [
    "X = df[['accelerometer_reading_x','accelerometer_reading_y','accelerometer_reading_z','gyroscope_reading_phi','gyroscope_reading_theta','gyroscope_reading_psi']]\n",
    "t = df[['linear_position_x','linear_position_y','linear_position_z','angular_position_phi','angular_position_theta','angular_position_psi']]"
   ]
  },
  {
   "cell_type": "code",
   "execution_count": 4,
   "metadata": {},
   "outputs": [],
   "source": [
    "in_dim = X.shape[1]\n",
    "out_dim = t.shape[1]"
   ]
  },
  {
   "cell_type": "code",
   "execution_count": 5,
   "metadata": {},
   "outputs": [],
   "source": [
    "X_train, X_test, t_train, t_test = train_test_split(X, t, test_size=0.2)"
   ]
  },
  {
   "cell_type": "code",
   "execution_count": 6,
   "metadata": {},
   "outputs": [],
   "source": [
    "model = Sequential()\n",
    "model.add(Dense(100, input_dim=in_dim, activation=\"relu\"))\n",
    "model.add(Dense(32, activation=\"relu\"))\n",
    "model.add(Dense(out_dim))\n",
    "model.compile(loss=\"mse\", optimizer=\"adam\")"
   ]
  },
  {
   "cell_type": "code",
   "execution_count": 7,
   "metadata": {},
   "outputs": [],
   "source": [
    "#optimizer = keras.optimizers.Adam()\n",
    "#lr_metric = get_lr_metric(optimizer)\n",
    "\n",
    "#model.compile(\n",
    "#    optimizer=optimizer,\n",
    "#    metrics=['accuracy', lr_metric],\n",
    "#    loss='mean_absolute_error', \n",
    "#    )"
   ]
  },
  {
   "cell_type": "code",
   "execution_count": 8,
   "metadata": {},
   "outputs": [
    {
     "name": "stdout",
     "output_type": "stream",
     "text": [
      "Epoch 1/100\n",
      "184/184 - 0s - loss: 2.5930\n",
      "Epoch 2/100\n",
      "184/184 - 0s - loss: 0.9914\n",
      "Epoch 3/100\n",
      "184/184 - 0s - loss: 0.8375\n",
      "Epoch 4/100\n",
      "184/184 - 0s - loss: 0.8032\n",
      "Epoch 5/100\n",
      "184/184 - 0s - loss: 0.7649\n",
      "Epoch 6/100\n",
      "184/184 - 0s - loss: 0.7267\n",
      "Epoch 7/100\n",
      "184/184 - 0s - loss: 0.7239\n",
      "Epoch 8/100\n",
      "184/184 - 0s - loss: 0.7020\n",
      "Epoch 9/100\n",
      "184/184 - 0s - loss: 0.6282\n",
      "Epoch 10/100\n",
      "184/184 - 0s - loss: 0.5859\n",
      "Epoch 11/100\n",
      "184/184 - 0s - loss: 0.5335\n",
      "Epoch 12/100\n",
      "184/184 - 0s - loss: 0.5034\n",
      "Epoch 13/100\n",
      "184/184 - 0s - loss: 0.4700\n",
      "Epoch 14/100\n",
      "184/184 - 0s - loss: 0.4395\n",
      "Epoch 15/100\n",
      "184/184 - 0s - loss: 0.4217\n",
      "Epoch 16/100\n",
      "184/184 - 0s - loss: 0.4198\n",
      "Epoch 17/100\n",
      "184/184 - 0s - loss: 0.4232\n",
      "Epoch 18/100\n",
      "184/184 - 0s - loss: 0.4115\n",
      "Epoch 19/100\n",
      "184/184 - 0s - loss: 0.4026\n",
      "Epoch 20/100\n",
      "184/184 - 0s - loss: 0.3627\n",
      "Epoch 21/100\n",
      "184/184 - 0s - loss: 0.3476\n",
      "Epoch 22/100\n",
      "184/184 - 0s - loss: 0.3345\n",
      "Epoch 23/100\n",
      "184/184 - 0s - loss: 0.3213\n",
      "Epoch 24/100\n",
      "184/184 - 0s - loss: 0.3269\n",
      "Epoch 25/100\n",
      "184/184 - 0s - loss: 0.3188\n",
      "Epoch 26/100\n",
      "184/184 - 0s - loss: 0.3212\n",
      "Epoch 27/100\n",
      "184/184 - 0s - loss: 0.3105\n",
      "Epoch 28/100\n",
      "184/184 - 0s - loss: 0.3650\n",
      "Epoch 29/100\n",
      "184/184 - 0s - loss: 0.3420\n",
      "Epoch 30/100\n",
      "184/184 - 0s - loss: 0.3275\n",
      "Epoch 31/100\n",
      "184/184 - 0s - loss: 0.2999\n",
      "Epoch 32/100\n",
      "184/184 - 0s - loss: 0.2951\n",
      "Epoch 33/100\n",
      "184/184 - 0s - loss: 0.2976\n",
      "Epoch 34/100\n",
      "184/184 - 0s - loss: 0.3205\n",
      "Epoch 35/100\n",
      "184/184 - 0s - loss: 0.2904\n",
      "Epoch 36/100\n",
      "184/184 - 0s - loss: 0.2977\n",
      "Epoch 37/100\n",
      "184/184 - 0s - loss: 0.2864\n",
      "Epoch 38/100\n",
      "184/184 - 0s - loss: 0.2811\n",
      "Epoch 39/100\n",
      "184/184 - 0s - loss: 0.2764\n",
      "Epoch 40/100\n",
      "184/184 - 0s - loss: 0.2713\n",
      "Epoch 41/100\n",
      "184/184 - 0s - loss: 0.2689\n",
      "Epoch 42/100\n",
      "184/184 - 0s - loss: 0.2709\n",
      "Epoch 43/100\n",
      "184/184 - 0s - loss: 0.2764\n",
      "Epoch 44/100\n",
      "184/184 - 0s - loss: 0.3037\n",
      "Epoch 45/100\n",
      "184/184 - 0s - loss: 0.3045\n",
      "Epoch 46/100\n",
      "184/184 - 0s - loss: 0.2761\n",
      "Epoch 47/100\n",
      "184/184 - 0s - loss: 0.2550\n",
      "Epoch 48/100\n",
      "184/184 - 0s - loss: 0.2528\n",
      "Epoch 49/100\n",
      "184/184 - 0s - loss: 0.2499\n",
      "Epoch 50/100\n",
      "184/184 - 0s - loss: 0.2508\n",
      "Epoch 51/100\n",
      "184/184 - 0s - loss: 0.2533\n",
      "Epoch 52/100\n",
      "184/184 - 0s - loss: 0.2591\n",
      "Epoch 53/100\n",
      "184/184 - 0s - loss: 0.2521\n",
      "Epoch 54/100\n",
      "184/184 - 0s - loss: 0.2777\n",
      "Epoch 55/100\n",
      "184/184 - 0s - loss: 0.2572\n",
      "Epoch 56/100\n",
      "184/184 - 0s - loss: 0.2607\n",
      "Epoch 57/100\n",
      "184/184 - 0s - loss: 0.2603\n",
      "Epoch 58/100\n",
      "184/184 - 0s - loss: 0.2609\n",
      "Epoch 59/100\n",
      "184/184 - 0s - loss: 0.2553\n",
      "Epoch 60/100\n",
      "184/184 - 0s - loss: 0.2502\n",
      "Epoch 61/100\n",
      "184/184 - 0s - loss: 0.2546\n",
      "Epoch 62/100\n",
      "184/184 - 0s - loss: 0.2604\n",
      "Epoch 63/100\n",
      "184/184 - 0s - loss: 0.2375\n",
      "Epoch 64/100\n",
      "184/184 - 0s - loss: 0.2363\n",
      "Epoch 65/100\n",
      "184/184 - 0s - loss: 0.2445\n",
      "Epoch 66/100\n",
      "184/184 - 0s - loss: 0.2511\n",
      "Epoch 67/100\n",
      "184/184 - 0s - loss: 0.2416\n",
      "Epoch 68/100\n",
      "184/184 - 0s - loss: 0.2486\n",
      "Epoch 69/100\n",
      "184/184 - 0s - loss: 0.2335\n",
      "Epoch 70/100\n",
      "184/184 - 0s - loss: 0.2999\n",
      "Epoch 71/100\n",
      "184/184 - 0s - loss: 0.2404\n",
      "Epoch 72/100\n",
      "184/184 - 0s - loss: 0.2484\n",
      "Epoch 73/100\n",
      "184/184 - 0s - loss: 0.2402\n",
      "Epoch 74/100\n",
      "184/184 - 0s - loss: 0.2265\n",
      "Epoch 75/100\n",
      "184/184 - 0s - loss: 0.2251\n",
      "Epoch 76/100\n",
      "184/184 - 0s - loss: 0.2267\n",
      "Epoch 77/100\n",
      "184/184 - 0s - loss: 0.2271\n",
      "Epoch 78/100\n",
      "184/184 - 0s - loss: 0.2215\n",
      "Epoch 79/100\n",
      "184/184 - 0s - loss: 0.2302\n",
      "Epoch 80/100\n",
      "184/184 - 0s - loss: 0.2262\n",
      "Epoch 81/100\n",
      "184/184 - 0s - loss: 0.2313\n",
      "Epoch 82/100\n",
      "184/184 - 0s - loss: 0.2285\n",
      "Epoch 83/100\n",
      "184/184 - 0s - loss: 0.2387\n",
      "Epoch 84/100\n",
      "184/184 - 0s - loss: 0.2307\n",
      "Epoch 85/100\n",
      "184/184 - 0s - loss: 0.2309\n",
      "Epoch 86/100\n",
      "184/184 - 0s - loss: 0.2311\n",
      "Epoch 87/100\n",
      "184/184 - 0s - loss: 0.2504\n",
      "Epoch 88/100\n",
      "184/184 - 0s - loss: 0.2146\n",
      "Epoch 89/100\n",
      "184/184 - 0s - loss: 0.2147\n",
      "Epoch 90/100\n",
      "184/184 - 0s - loss: 0.2116\n",
      "Epoch 91/100\n",
      "184/184 - 0s - loss: 0.2062\n",
      "Epoch 92/100\n",
      "184/184 - 0s - loss: 0.2164\n",
      "Epoch 93/100\n",
      "184/184 - 0s - loss: 0.2187\n",
      "Epoch 94/100\n",
      "184/184 - 0s - loss: 0.2291\n",
      "Epoch 95/100\n",
      "184/184 - 0s - loss: 0.2217\n",
      "Epoch 96/100\n",
      "184/184 - 0s - loss: 0.2072\n",
      "Epoch 97/100\n",
      "184/184 - 0s - loss: 0.2061\n",
      "Epoch 98/100\n",
      "184/184 - 0s - loss: 0.2287\n",
      "Epoch 99/100\n",
      "184/184 - 0s - loss: 0.2041\n",
      "Epoch 100/100\n",
      "184/184 - 0s - loss: 0.2040\n"
     ]
    },
    {
     "data": {
      "text/plain": [
       "<tensorflow.python.keras.callbacks.History at 0x15cb876e8e0>"
      ]
     },
     "execution_count": 8,
     "metadata": {},
     "output_type": "execute_result"
    }
   ],
   "source": [
    "model.fit(X_train, t_train, epochs=100, batch_size=12, verbose=2)"
   ]
  },
  {
   "cell_type": "code",
   "execution_count": 9,
   "metadata": {},
   "outputs": [
    {
     "name": "stdout",
     "output_type": "stream",
     "text": [
      "y1 MSE:1.0922\n",
      "y2 MSE:0.0595\n",
      "y3 MSE:0.0173\n",
      "y4 MSE:0.0003\n",
      "y5 MSE:0.0002\n",
      "y6 MSE:0.0007\n"
     ]
    }
   ],
   "source": [
    "ypred = model.predict(X_test)\n",
    "print(\"y1 MSE:%.4f\" % mean_squared_error(t_test.iloc[:, 0], ypred[:,0])) \n",
    "print(\"y2 MSE:%.4f\" % mean_squared_error(t_test.iloc[:, 1], ypred[:,1]))\n",
    "print(\"y3 MSE:%.4f\" % mean_squared_error(t_test.iloc[:, 2], ypred[:,2]))\n",
    "print(\"y4 MSE:%.4f\" % mean_squared_error(t_test.iloc[:, 3], ypred[:,3]))\n",
    "print(\"y5 MSE:%.4f\" % mean_squared_error(t_test.iloc[:, 4], ypred[:,4]))\n",
    "print(\"y6 MSE:%.4f\" % mean_squared_error(t_test.iloc[:, 5], ypred[:,5]))"
   ]
  },
  {
   "cell_type": "code",
   "execution_count": null,
   "metadata": {},
   "outputs": [],
   "source": [
    "x_ax = range(len(X_test))\n",
    "\n",
    "plt.scatter(x_ax, t_test.iloc[:, 0],  s=6, label=\"y1-test\")\n",
    "plt.scatter(x_ax, ypred[:,0], label=\"y1-pred\",c=\"red\")\n",
    "\n",
    "plt.legend()\n",
    "plt.show()"
   ]
  },
  {
   "cell_type": "code",
   "execution_count": null,
   "metadata": {},
   "outputs": [],
   "source": [
    "plt.scatter(x_ax, t_test.iloc[:, 1],  s=6, label=\"y2-test\")\n",
    "plt.plot(x_ax, ypred[:,1], label=\"y2-pred\")\n",
    "\n",
    "plt.legend()\n",
    "plt.show()"
   ]
  },
  {
   "cell_type": "code",
   "execution_count": null,
   "metadata": {},
   "outputs": [],
   "source": [
    "plt.scatter(x_ax, t_test.iloc[:, 2],  s=6, label=\"y3-test\")\n",
    "plt.plot(x_ax, ypred[:,2], label=\"y3-pred\")\n",
    "\n",
    "plt.legend()\n",
    "plt.show()"
   ]
  },
  {
   "cell_type": "code",
   "execution_count": null,
   "metadata": {},
   "outputs": [],
   "source": [
    "plt.scatter(x_ax, t_test.iloc[:, 3],  s=6, label=\"y4-test\")\n",
    "plt.plot(x_ax, ypred[:,3], label=\"y4-pred\")\n",
    "\n",
    "plt.legend()\n",
    "plt.show()"
   ]
  },
  {
   "cell_type": "code",
   "execution_count": null,
   "metadata": {},
   "outputs": [],
   "source": [
    "plt.scatter(x_ax, t_test.iloc[:, 4],  s=6, label=\"y5-test\")\n",
    "plt.plot(x_ax, ypred[:,4], label=\"y5-pred\")\n",
    "\n",
    "plt.legend()\n",
    "plt.show()"
   ]
  },
  {
   "cell_type": "code",
   "execution_count": null,
   "metadata": {},
   "outputs": [],
   "source": [
    "plt.scatter(x_ax, t_test.iloc[:, 5],  s=6, label=\"y6-test\")\n",
    "plt.plot(x_ax, ypred[:,5], label=\"y6-pred\")\n",
    "\n",
    "plt.legend()\n",
    "plt.show()"
   ]
  },
  {
   "cell_type": "code",
   "execution_count": null,
   "metadata": {},
   "outputs": [],
   "source": []
  },
  {
   "cell_type": "code",
   "execution_count": null,
   "metadata": {},
   "outputs": [],
   "source": []
  }
 ],
 "metadata": {
  "kernelspec": {
   "display_name": "Python 3",
   "language": "python",
   "name": "python3"
  },
  "language_info": {
   "codemirror_mode": {
    "name": "ipython",
    "version": 3
   },
   "file_extension": ".py",
   "mimetype": "text/x-python",
   "name": "python",
   "nbconvert_exporter": "python",
   "pygments_lexer": "ipython3",
   "version": "3.8.3"
  }
 },
 "nbformat": 4,
 "nbformat_minor": 4
}
