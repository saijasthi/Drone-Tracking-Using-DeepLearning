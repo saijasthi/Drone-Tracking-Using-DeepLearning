{
 "cells": [
  {
   "cell_type": "markdown",
   "id": "cutting-sherman",
   "metadata": {},
   "source": [
    "TODO\n",
    "\n",
    "1. WRite the preprocessing phase to get all of the data into one single csv table.\n",
    "2. Al-Sharman et al. uses a personally made DNN system, the code does not exist online, find a DNN that would work with our dataset\n",
    "3. Pick a model and write a model that estimates the angular position\n",
    "4. "
   ]
  }
 ],
 "metadata": {
  "kernelspec": {
   "display_name": "Python 3",
   "language": "python",
   "name": "python3"
  },
  "language_info": {
   "codemirror_mode": {
    "name": "ipython",
    "version": 3
   },
   "file_extension": ".py",
   "mimetype": "text/x-python",
   "name": "python",
   "nbconvert_exporter": "python",
   "pygments_lexer": "ipython3",
   "version": "3.8.3"
  }
 },
 "nbformat": 4,
 "nbformat_minor": 5
}
