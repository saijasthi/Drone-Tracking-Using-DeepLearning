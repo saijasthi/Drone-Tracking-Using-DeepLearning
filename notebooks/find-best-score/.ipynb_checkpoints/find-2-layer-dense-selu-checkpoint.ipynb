{
 "cells": [
  {
   "cell_type": "code",
   "execution_count": 1,
   "metadata": {},
   "outputs": [],
   "source": [
    "import os, sys\n",
    "sys.path.append(os.path.dirname(os.path.dirname(os.path.abspath(\"./notebooks\"))))"
   ]
  },
  {
   "cell_type": "code",
   "execution_count": null,
   "metadata": {},
   "outputs": [],
   "source": [
    "from tensorflow.keras import layers;\n",
    "from tensorflow.keras import losses;\n",
    "from tensorflow.keras import optimizers;\n",
    "from dataset import Dataset;\n",
    "from hyperparameter import HyperParameter;\n",
    "from hyperparameter_search import HyperParameterSearch;\n",
    "    \n",
    "dataset_vector_25 = Dataset(\"../../preprocessed/row_size25_vector_size2000.csv\")\n",
    "dataset_vector_100 = Dataset(\"../../preprocessed/row_size100_vector_size2000.csv\")\n",
    "\n",
    "dataset_lambda_pair_set = [\n",
    "    # 2 Layer Dense SELU\n",
    "    (\n",
    "        dataset_vector_25,\n",
    "        lambda: (\n",
    "            [\n",
    "                layers.Dense(100, input_dim=dataset_vector_25.getInDimension(), activation=\"selu\"),\n",
    "                layers.Dense(32, activation=\"selu\"),\n",
    "                layers.Dense(dataset_vector_25.getOutDimension())\n",
    "            ]\n",
    "        ),\n",
    "        '[Dense(100, activation=\"selu\"), Dense(32, activation=\"selu\")]',\n",
    "    ),\n",
    "    (\n",
    "        dataset_vector_100,\n",
    "        lambda: (\n",
    "            [\n",
    "                layers.Dense(100, input_dim=dataset_vector_100.getInDimension(), activation=\"selu\"),\n",
    "                layers.Dense(32, activation=\"selu\"),\n",
    "                layers.Dense(dataset_vector_100.getOutDimension())\n",
    "            ]\n",
    "        ),\n",
    "        '[Dense(100, activation=\"selu\"), Dense(32, activation=\"selu\")]',\n",
    "    ),\n",
    "];\n",
    "loss_set = [\n",
    "    losses.mean_squared_error,\n",
    "    # losses.mean_absolute_error,\n",
    "    # losses.mean_absolute_percentage_error,\n",
    "    # losses.mean_squared_logarithmic_error,\n",
    "    # losses.cosine_similarity,\n",
    "    # losses.huber,\n",
    "    # losses.log_cosh\n",
    "]\n",
    "optimizer_set = [\n",
    "    optimizers.SGD,\n",
    "    optimizers.RMSprop,\n",
    "    optimizers.Adam,\n",
    "    optimizers.Adadelta,\n",
    "    optimizers.Adagrad,\n",
    "    optimizers.Adamax,\n",
    "    optimizers.Nadam,\n",
    "    optimizers.Ftrl\n",
    "]\n",
    "epoch_set = [\n",
    "    30, \n",
    "    50, \n",
    "    75, \n",
    "    100\n",
    "]\n",
    "batch_size_set = [\n",
    "    12, \n",
    "    18, \n",
    "    24, \n",
    "    32, \n",
    "    40\n",
    "]\n",
    "search = HyperParameterSearch();\n",
    "parameters = search.createParameterSet(dataset_lambda_pair_set, loss_set, optimizer_set, epoch_set, batch_size_set)\n",
    "\n",
    "print(str(parameters[0]))\n",
    "\n",
    "search.run(parameters);\n",
    "\n",
    "print(search.results)"
   ]
  },
  {
   "cell_type": "code",
   "execution_count": null,
   "metadata": {},
   "outputs": [],
   "source": [
    "for key, result in search.results.items():\n",
    "    print(key)\n",
    "    result['estimator'].print_metrics();\n",
    "    result['estimator'].plot()"
   ]
  },
  {
   "cell_type": "code",
   "execution_count": null,
   "metadata": {},
   "outputs": [],
   "source": [
    "\n",
    "search.print();"
   ]
  },
  {
   "cell_type": "code",
   "execution_count": null,
   "metadata": {},
   "outputs": [],
   "source": []
  }
 ],
 "metadata": {
  "kernelspec": {
   "display_name": "Python 3",
   "language": "python",
   "name": "python3"
  },
  "language_info": {
   "codemirror_mode": {
    "name": "ipython",
    "version": 3
   },
   "file_extension": ".py",
   "mimetype": "text/x-python",
   "name": "python",
   "nbconvert_exporter": "python",
   "pygments_lexer": "ipython3",
   "version": "3.8.3"
  }
 },
 "nbformat": 4,
 "nbformat_minor": 4
}
