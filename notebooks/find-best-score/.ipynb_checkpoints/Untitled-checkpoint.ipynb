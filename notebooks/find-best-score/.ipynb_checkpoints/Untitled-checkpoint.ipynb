{
 "cells": [
  {
   "cell_type": "code",
   "execution_count": 2,
   "metadata": {},
   "outputs": [],
   "source": [
    "import os, sys\n",
    "sys.path.append(os.path.dirname(os.path.dirname(os.path.abspath(\"./notebooks\"))))"
   ]
  },
  {
   "cell_type": "code",
   "execution_count": null,
   "metadata": {},
   "outputs": [],
   "source": [
    "from tensorflow.keras import layers;\n",
    "from tensorflow.keras import losses;\n",
    "from tensorflow.keras import optimizers;\n",
    "from dataset import Dataset;\n",
    "from hyperparameter import HyperParameter;\n",
    "from hyperparameter_search import HyperParameterSearch;\n",
    "    \n",
    "dataset_vector_25 = Dataset(\"../../preprocessed/row_size25_vector_size2000.csv\")\n",
    "dataset_vector_100 = Dataset(\"../../preprocessed/row_size100_vector_size2000.csv\")\n",
    "\n",
    "dataset_lambda_pair_set = [\n",
    "    # 4 layer Dense tanh\n",
    "    (\n",
    "        dataset_vector_25,\n",
    "        lambda: (\n",
    "            [\n",
    "                layers.Dense(256, input_dim=dataset_vector_25.getInDimension(), activation=\"tanh\"),\n",
    "                layers.Dense(128, activation=\"tanh\"),\n",
    "                layers.Dense(64, activation=\"tanh\"),\n",
    "                layers.Dense(32, activation=\"tanh\"),\n",
    "                layers.Dense(dataset_vector_25.getOutDimension())\n",
    "            ]\n",
    "        ),\n",
    "        '[Dense(256, activation=\"tanh\"), Dense(128, activation=\"tanh\"), Dense(64, activation=\"tanh\"), Dense(32, activation=\"tanh\")]',\n",
    "    )\n",
    "];\n",
    "loss_set = [\n",
    "    losses.mean_squared_error,\n",
    "]\n",
    "optimizer_set = [\n",
    "    optimizers.SGD,\n",
    "    optimizers.RMSprop,\n",
    "    optimizers.Adam,\n",
    "    optimizers.Adadelta,\n",
    "    optimizers.Adagrad,\n",
    "    optimizers.Adamax,\n",
    "    optimizers.Nadam,\n",
    "    optimizers.Ftrl\n",
    "]\n",
    "epoch_set = [\n",
    "    30,\n",
    "]\n",
    "batch_size_set = [\n",
    "    12,\n",
    "]\n",
    "search = HyperParameterSearch();\n",
    "parameters = search.createParameterSet(dataset_lambda_pair_set, loss_set, optimizer_set, epoch_set, batch_size_set)\n",
    "\n",
    "print(str(parameters[0]))\n",
    "\n",
    "search.run(parameters);\n",
    "\n",
    "print(search.results)"
   ]
  }
 ],
 "metadata": {
  "kernelspec": {
   "display_name": "Python 3",
   "language": "python",
   "name": "python3"
  },
  "language_info": {
   "codemirror_mode": {
    "name": "ipython",
    "version": 3
   },
   "file_extension": ".py",
   "mimetype": "text/x-python",
   "name": "python",
   "nbconvert_exporter": "python",
   "pygments_lexer": "ipython3",
   "version": "3.8.3"
  }
 },
 "nbformat": 4,
 "nbformat_minor": 4
}
